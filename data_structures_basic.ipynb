{
  "nbformat": 4,
  "nbformat_minor": 0,
  "metadata": {
    "colab": {
      "provenance": []
    },
    "kernelspec": {
      "name": "python3",
      "display_name": "Python 3"
    },
    "language_info": {
      "name": "python"
    }
  },
  "cells": [
    {
      "cell_type": "markdown",
      "source": [
        "Q.1. Discuss string slicing and provide examples ?\n",
        "\n",
        "ans:\n",
        "\n",
        "String slicing in Python is a technique used to extract a portion of a string by\n",
        "specifying a range of indices. The syntax for string slicing is:\n"
      ],
      "metadata": {
        "id": "x770f8YeGt_B"
      }
    },
    {
      "cell_type": "code",
      "source": [
        "string_slicing = [start,stop,syep]\n"
      ],
      "metadata": {
        "id": "PINFCsWyHCRh"
      },
      "execution_count": null,
      "outputs": []
    },
    {
      "cell_type": "markdown",
      "source": [
        "* start is the index where the slice starts (inclusive).\n",
        "* stop is the index where the slice ends (exclusive).\n",
        "* step is the amount by which the index increases.\n",
        "* If start is omitted, it is assumed to be the beginning of the string (index 0).\n",
        "* If stop is omitted, it is assumed to be the end of the string (the length of the string).\n",
        "* If step is omitted, it is assumed to be 1 (each character is included in the slice)"
      ],
      "metadata": {
        "id": "Dtk8LnWiHFi2"
      }
    },
    {
      "cell_type": "markdown",
      "source": [
        "Here are some examples"
      ],
      "metadata": {
        "id": "wTovKyboHL9l"
      }
    },
    {
      "cell_type": "code",
      "source": [
        "string = \"hello Pwskills\"\n",
        "slicing = string[:6]\n",
        "slicing"
      ],
      "metadata": {
        "colab": {
          "base_uri": "https://localhost:8080/",
          "height": 36
        },
        "id": "XvNr0bMLHPU3",
        "outputId": "0071aab2-ca8f-4f38-859d-83b9d1e60d1c"
      },
      "execution_count": 3,
      "outputs": [
        {
          "output_type": "execute_result",
          "data": {
            "text/plain": [
              "'hello '"
            ],
            "application/vnd.google.colaboratory.intrinsic+json": {
              "type": "string"
            }
          },
          "metadata": {},
          "execution_count": 3
        }
      ]
    },
    {
      "cell_type": "markdown",
      "source": [
        "by default it starts from 0\n"
      ],
      "metadata": {
        "id": "mNy5qiylHqEa"
      }
    },
    {
      "cell_type": "code",
      "source": [
        "slicing2 = string[::]\n",
        "slicing2"
      ],
      "metadata": {
        "colab": {
          "base_uri": "https://localhost:8080/",
          "height": 36
        },
        "id": "ZHZVqmFtHxID",
        "outputId": "06052c03-6fb1-4090-e502-0e08673f15dc"
      },
      "execution_count": 4,
      "outputs": [
        {
          "output_type": "execute_result",
          "data": {
            "text/plain": [
              "'hello Pwskills'"
            ],
            "application/vnd.google.colaboratory.intrinsic+json": {
              "type": "string"
            }
          },
          "metadata": {},
          "execution_count": 4
        }
      ]
    },
    {
      "cell_type": "markdown",
      "source": [
        "It takes step one (1) by default\n",
        "These examples show how Python’s default values for slicing parameters work,\n",
        "making the slicing operation more flexible and easier to use.\n"
      ],
      "metadata": {
        "id": "p5jwlJVHHzm-"
      }
    },
    {
      "cell_type": "markdown",
      "source": [
        "Q.2. Explain the key features of lists in Python.\n",
        "\n",
        "Lists are a fundamental data structure in Python and offer a range of features that\n",
        "make them versatile and powerful. Here are the key features of lists in Python:\n",
        "\n",
        "(a).Ordered\n",
        "\n",
        "Lists maintain the order of elements. The order in which elements are added is\n",
        "preserved, and elements can be accessed by their index.\n"
      ],
      "metadata": {
        "id": "W5Ewenz9H-g-"
      }
    },
    {
      "cell_type": "code",
      "source": [
        "my_list = [11, 'pwskills','Data Science', 'Data Analytics',200, 100]\n",
        "print(my_list[2])"
      ],
      "metadata": {
        "colab": {
          "base_uri": "https://localhost:8080/"
        },
        "id": "9T6mrzMSIIHW",
        "outputId": "cbce3a0a-d911-476c-a43f-00f191bb38a9"
      },
      "execution_count": 5,
      "outputs": [
        {
          "output_type": "stream",
          "name": "stdout",
          "text": [
            "Data Science\n"
          ]
        }
      ]
    },
    {
      "cell_type": "markdown",
      "source": [
        "(b).Mutable\n",
        "\n",
        "Lists can be modified after their creation. We can change, add, or remove elements."
      ],
      "metadata": {
        "id": "KK1rzYH5INye"
      }
    },
    {
      "cell_type": "code",
      "source": [
        "my_list[2] = 'Machine Learning'\n",
        "my_list"
      ],
      "metadata": {
        "colab": {
          "base_uri": "https://localhost:8080/"
        },
        "id": "whPk044YIPfN",
        "outputId": "003804e8-7677-4488-be76-d4056d812bb1"
      },
      "execution_count": 6,
      "outputs": [
        {
          "output_type": "execute_result",
          "data": {
            "text/plain": [
              "[11, 'pwskills', 'Machine Learning', 'Data Analytics', 200, 100]"
            ]
          },
          "metadata": {},
          "execution_count": 6
        }
      ]
    },
    {
      "cell_type": "markdown",
      "source": [
        "(c).Dynamic Size\n",
        "\n",
        "Lists can grow and shrink in size as needed. We can append elements to increase the\n",
        "size and remove elements to decrease it."
      ],
      "metadata": {
        "id": "7ySZ81fcIfVq"
      }
    },
    {
      "cell_type": "code",
      "source": [
        "my_list.append(50)\n",
        "print(my_list)\n",
        "my_list.pop()\n",
        "print(my_list)"
      ],
      "metadata": {
        "colab": {
          "base_uri": "https://localhost:8080/"
        },
        "id": "ziQzAVYoIi89",
        "outputId": "72fd279e-8e9f-4244-d077-1a327abab2f7"
      },
      "execution_count": 8,
      "outputs": [
        {
          "output_type": "stream",
          "name": "stdout",
          "text": [
            "[11, 'pwskills', 'Machine Learning', 'Data Analytics', 200, 100, 50]\n",
            "[11, 'pwskills', 'Machine Learning', 'Data Analytics', 200, 100]\n"
          ]
        }
      ]
    },
    {
      "cell_type": "markdown",
      "source": [
        "(d). Slicing\n",
        "\n",
        "Lists support slicing to access a subset of elements."
      ],
      "metadata": {
        "id": "RC3h8u_8Iu7e"
      }
    },
    {
      "cell_type": "code",
      "source": [
        "print(my_list[1:3])"
      ],
      "metadata": {
        "colab": {
          "base_uri": "https://localhost:8080/"
        },
        "id": "rJ4JHkT0IndO",
        "outputId": "43e3c1b2-86cb-4481-8616-8cbeeb5764c7"
      },
      "execution_count": 9,
      "outputs": [
        {
          "output_type": "stream",
          "name": "stdout",
          "text": [
            "['pwskills', 'Machine Learning']\n"
          ]
        }
      ]
    },
    {
      "cell_type": "markdown",
      "source": [
        "(e). Built-in Functions and Methods\n",
        "\n",
        "Python provides several built-in functions and methods for lists, such as len(), min(),\n",
        "max(), sum(), append(), remove(), sort(), and more"
      ],
      "metadata": {
        "id": "NisHBxcZI1Jm"
      }
    },
    {
      "cell_type": "code",
      "source": [
        "my_list1 = [100,200,250,300,450,60]\n",
        "print(len(my_list1)) # Output: 6\n",
        "print(min(my_list1)) # Output: 60\n",
        "print(max(my_list1))\n",
        "my_list1.sort()\n",
        "print(my_list1)"
      ],
      "metadata": {
        "colab": {
          "base_uri": "https://localhost:8080/"
        },
        "id": "4ePgDHb-I4Dt",
        "outputId": "6f692639-b02b-423d-a211-792acb31fd9a"
      },
      "execution_count": 10,
      "outputs": [
        {
          "output_type": "stream",
          "name": "stdout",
          "text": [
            "6\n",
            "60\n",
            "450\n",
            "[60, 100, 200, 250, 300, 450]\n"
          ]
        }
      ]
    },
    {
      "cell_type": "markdown",
      "source": [
        "(f).Iteration\n",
        "\n",
        "We can iterate over the elements of a list using loops, making it easy to process each\n",
        "element"
      ],
      "metadata": {
        "id": "H2YqCh4VJK7W"
      }
    },
    {
      "cell_type": "code",
      "source": [
        "for i in my_list1:\n",
        " print(i)\n"
      ],
      "metadata": {
        "colab": {
          "base_uri": "https://localhost:8080/"
        },
        "id": "yhDxVaXWJM45",
        "outputId": "00cf32fd-07eb-4b00-ecb0-bdbc34f17b11"
      },
      "execution_count": 11,
      "outputs": [
        {
          "output_type": "stream",
          "name": "stdout",
          "text": [
            "60\n",
            "100\n",
            "200\n",
            "250\n",
            "300\n",
            "450\n"
          ]
        }
      ]
    },
    {
      "cell_type": "markdown",
      "source": [
        "(g). List Comprehensions\n",
        "\n",
        "List comprehensions provide a concise way to create lists. It consists of brackets\n",
        "containing an expression followed by a for clause."
      ],
      "metadata": {
        "id": "eHTUOksTJTNh"
      }
    },
    {
      "cell_type": "code",
      "source": [
        "my_list2 = [23,43,44,55,66,78,99,100]\n",
        "even_no = [i for i in my_list2 if i%2==0]\n",
        "even_no"
      ],
      "metadata": {
        "colab": {
          "base_uri": "https://localhost:8080/"
        },
        "id": "7CdgMfz7JVz-",
        "outputId": "dddf368a-2c11-4f02-e50d-552d72edc646"
      },
      "execution_count": 12,
      "outputs": [
        {
          "output_type": "execute_result",
          "data": {
            "text/plain": [
              "[44, 66, 78, 100]"
            ]
          },
          "metadata": {},
          "execution_count": 12
        }
      ]
    },
    {
      "cell_type": "markdown",
      "source": [
        "Q.3.Describe how to access, modify and delete elements in a list with\n",
        "examples.\n",
        "\n",
        "Ans.\n",
        "\n",
        "In Python, lists are mutable, meaning their elements can be changed. Here's\n",
        "how you can access, modify, and delete elements in a list with examples:\n",
        "\n",
        "Accessing Elements\n",
        "\n",
        "We can access elements in a list using indexing."
      ],
      "metadata": {
        "id": "KsBEtdkrJcZA"
      }
    },
    {
      "cell_type": "code",
      "source": [
        "fruits = ['apple', 'banana', 'cherry', 'date', 'elderberry']\n",
        "first_fruit = fruits[0]\n",
        "fruits = ['apple', 'banana', 'cherry', 'date', 'elderberry']\n",
        "second_fruit = fruits[1]\n",
        "fruits = ['apple', 'banana', 'cherry', 'date', 'elderberry']\n",
        "last_fruit = fruits[-1]\n",
        "print(first_fruit)\n",
        "print(second_fruit)\n",
        "print(last_fruit)"
      ],
      "metadata": {
        "colab": {
          "base_uri": "https://localhost:8080/"
        },
        "id": "Rdmve0BIJod2",
        "outputId": "e75ea6e3-2ea4-436a-837a-22af6bb43b70"
      },
      "execution_count": 13,
      "outputs": [
        {
          "output_type": "stream",
          "name": "stdout",
          "text": [
            "apple\n",
            "banana\n",
            "elderberry\n"
          ]
        }
      ]
    },
    {
      "cell_type": "markdown",
      "source": [
        "Modifying Elements\n",
        "\n",
        "We can modify elements in a list by directly assigning a new value to a specific index."
      ],
      "metadata": {
        "id": "4B6YITfnJvjY"
      }
    },
    {
      "cell_type": "code",
      "source": [
        "fruits[1] = 'blueberry'\n",
        "print(fruits)\n",
        "fruits[-1] = 'fig'\n",
        "print(fruits)\n"
      ],
      "metadata": {
        "colab": {
          "base_uri": "https://localhost:8080/"
        },
        "id": "PuuidMQjJ0Uu",
        "outputId": "15214477-c2fa-44f1-b606-4dc609d79564"
      },
      "execution_count": 14,
      "outputs": [
        {
          "output_type": "stream",
          "name": "stdout",
          "text": [
            "['apple', 'blueberry', 'cherry', 'date', 'elderberry']\n",
            "['apple', 'blueberry', 'cherry', 'date', 'fig']\n"
          ]
        }
      ]
    },
    {
      "cell_type": "markdown",
      "source": [
        "Deleting Elements\n",
        "\n",
        "We can delete elements from a list using the del statement, the remove() method, or the pop() method.\n",
        "\n",
        "Using del statement\n",
        "\n",
        "The del statement removes an element at a specific index."
      ],
      "metadata": {
        "id": "n7k_4X61J-ms"
      }
    },
    {
      "cell_type": "code",
      "source": [
        "fruits = ['apple', 'banana', 'cherry', 'date', 'elderberry']\n",
        "del fruits[1]\n",
        "print(fruits)\n",
        "fruits.remove('cherry')\n",
        "print(fruits)"
      ],
      "metadata": {
        "colab": {
          "base_uri": "https://localhost:8080/"
        },
        "id": "lhlzCV2hKSOr",
        "outputId": "77c1a81c-85bc-42af-b00d-bb045591f6dd"
      },
      "execution_count": 15,
      "outputs": [
        {
          "output_type": "stream",
          "name": "stdout",
          "text": [
            "['apple', 'cherry', 'date', 'elderberry']\n",
            "['apple', 'date', 'elderberry']\n"
          ]
        }
      ]
    },
    {
      "cell_type": "markdown",
      "source": [
        "We can also use pop() method removes an element at a specific index and returns it.\n",
        "If no index is specified, it removes and returns the last element."
      ],
      "metadata": {
        "id": "ZV4pF4UOKefk"
      }
    },
    {
      "cell_type": "code",
      "source": [
        "fruits = ['apple', 'banana', 'cherry', 'date', 'elderberry']\n",
        "popped_fruit = fruits.pop(2)\n",
        "print(popped_fruit) # Output: cherry\n",
        "print(fruits)\n"
      ],
      "metadata": {
        "colab": {
          "base_uri": "https://localhost:8080/"
        },
        "id": "qf98EqGnKkDx",
        "outputId": "fbabb73c-92a3-436e-cc61-c23c27fab486"
      },
      "execution_count": 16,
      "outputs": [
        {
          "output_type": "stream",
          "name": "stdout",
          "text": [
            "cherry\n",
            "['apple', 'banana', 'date', 'elderberry']\n"
          ]
        }
      ]
    },
    {
      "cell_type": "markdown",
      "source": [
        "Q.4.Compare and contrast tuples and list with examples .\n",
        "\n",
        "Ans.\n",
        " - Tuples and lists are both used to store collections of items in Python, but they\n",
        "have several key differences in terms of mutability, performance, and usage. Here's a\n",
        "comparison and contrast of tuples and lists with examples:\n",
        "\n",
        "Mutability\n",
        "\n",
        "Lists are mutable, meaning you can change, add, or remove elements after the list is\n",
        "created.\n",
        "\n",
        "Tuples are immutable, meaning once a tuple is created, we cannot change, add, or\n",
        "remove elements.\n",
        "\n",
        "Example of List Mutability"
      ],
      "metadata": {
        "id": "4MrT3S0CKqPA"
      }
    },
    {
      "cell_type": "code",
      "source": [
        "list = [1, 2, 3, 4, 5]\n",
        "list[2] = 10 # Modifying an element\n",
        "print(list)\n",
        "list.append(6) # Adding an element\n",
        "print(list)\n",
        "list.remove(10) # Removing an element\n",
        "print(list)"
      ],
      "metadata": {
        "colab": {
          "base_uri": "https://localhost:8080/"
        },
        "id": "Utq35tqjK_Qm",
        "outputId": "7a457112-b923-4fed-f335-87232b77776c"
      },
      "execution_count": 17,
      "outputs": [
        {
          "output_type": "stream",
          "name": "stdout",
          "text": [
            "[1, 2, 10, 4, 5]\n",
            "[1, 2, 10, 4, 5, 6]\n",
            "[1, 2, 4, 5, 6]\n"
          ]
        }
      ]
    },
    {
      "cell_type": "markdown",
      "source": [
        "Example of Tuple Immutability:"
      ],
      "metadata": {
        "id": "Ib_s6YDwK-5e"
      }
    },
    {
      "cell_type": "code",
      "source": [
        "tuple = (1, 2, 3, 4, 5)\n",
        "my_tuple[2] = 10"
      ],
      "metadata": {
        "colab": {
          "base_uri": "https://localhost:8080/",
          "height": 164
        },
        "id": "k1_akRi3LHIb",
        "outputId": "f1c2d3da-9a61-419e-dbdf-fd82a630ecb8"
      },
      "execution_count": 18,
      "outputs": [
        {
          "output_type": "error",
          "ename": "NameError",
          "evalue": "name 'my_tuple' is not defined",
          "traceback": [
            "\u001b[0;31m---------------------------------------------------------------------------\u001b[0m",
            "\u001b[0;31mNameError\u001b[0m                                 Traceback (most recent call last)",
            "\u001b[0;32m<ipython-input-18-2e9ecd16dd2e>\u001b[0m in \u001b[0;36m<cell line: 2>\u001b[0;34m()\u001b[0m\n\u001b[1;32m      1\u001b[0m \u001b[0mtuple\u001b[0m \u001b[0;34m=\u001b[0m \u001b[0;34m(\u001b[0m\u001b[0;36m1\u001b[0m\u001b[0;34m,\u001b[0m \u001b[0;36m2\u001b[0m\u001b[0;34m,\u001b[0m \u001b[0;36m3\u001b[0m\u001b[0;34m,\u001b[0m \u001b[0;36m4\u001b[0m\u001b[0;34m,\u001b[0m \u001b[0;36m5\u001b[0m\u001b[0;34m)\u001b[0m\u001b[0;34m\u001b[0m\u001b[0;34m\u001b[0m\u001b[0m\n\u001b[0;32m----> 2\u001b[0;31m \u001b[0mmy_tuple\u001b[0m\u001b[0;34m[\u001b[0m\u001b[0;36m2\u001b[0m\u001b[0;34m]\u001b[0m \u001b[0;34m=\u001b[0m \u001b[0;36m10\u001b[0m\u001b[0;34m\u001b[0m\u001b[0;34m\u001b[0m\u001b[0m\n\u001b[0m",
            "\u001b[0;31mNameError\u001b[0m: name 'my_tuple' is not defined"
          ]
        }
      ]
    },
    {
      "cell_type": "markdown",
      "source": [
        "Syntax\n",
        "\n",
        "Lists are defined using square brackets [].\n",
        "\n",
        "Tuples are defined using parentheses ()."
      ],
      "metadata": {
        "id": "MDen1WOvLJKs"
      }
    },
    {
      "cell_type": "markdown",
      "source": [
        "\n",
        "Use Cases\n",
        "\n",
        "Lists are suitable for collections of items where the data might need to be modified.\n",
        "\n",
        "Tuples are suitable for collections of items that should not change throughout the\n",
        "program. They are often used to represent fixed collections of items, like coordinates\n",
        "or dates.\n"
      ],
      "metadata": {
        "id": "fuM6eRY2LSiv"
      }
    },
    {
      "cell_type": "markdown",
      "source": [
        "Q.5.Describe the key features of sets and provide examples of their use.\n",
        "\n",
        "Ans.\n",
        "\n",
        "Sets in Python are a collection type that is both unordered and unindexed, with\n",
        "no duplicate elements allowed. They are particularly useful for membership testing,\n",
        "eliminating duplicates, and performing mathematical operations like union,\n",
        "intersection, difference, and symmetric difference. Here are the key features of sets\n",
        "with examples:\n",
        "\n",
        "Key Features of Sets\n",
        "\n",
        "Unordered Collection: Sets do not maintain any order of elements.\n",
        "\n",
        "No Duplicate Elements: Sets automatically eliminate duplicate elements.\n",
        "\n",
        "Mutable: Sets can be modified by adding or removing elements, although the\n",
        "elements themselves must be immutable.\n",
        "\n",
        "Set Operations: Sets support standard mathematical operations such as union,\n",
        "intersection, difference, and symmetric difference."
      ],
      "metadata": {
        "id": "msTT4TVkLd5N"
      }
    },
    {
      "cell_type": "code",
      "source": [
        "my_set = {1, 2, 3, 4, 5}\n",
        "print(my_set)"
      ],
      "metadata": {
        "colab": {
          "base_uri": "https://localhost:8080/"
        },
        "id": "RApX2BRoLvzu",
        "outputId": "8bc8578c-fc43-40f4-a38f-767c6615777e"
      },
      "execution_count": 19,
      "outputs": [
        {
          "output_type": "stream",
          "name": "stdout",
          "text": [
            "{1, 2, 3, 4, 5}\n"
          ]
        }
      ]
    },
    {
      "cell_type": "code",
      "source": [
        "my_set1 = set([1, 2, 2, 3, 4])\n",
        "print(my_set1)"
      ],
      "metadata": {
        "colab": {
          "base_uri": "https://localhost:8080/"
        },
        "id": "k7hpLFjCL1O6",
        "outputId": "b46a282b-eb49-4720-d2fa-f56b43c757e5"
      },
      "execution_count": 20,
      "outputs": [
        {
          "output_type": "stream",
          "name": "stdout",
          "text": [
            "{1, 2, 3, 4}\n"
          ]
        }
      ]
    },
    {
      "cell_type": "markdown",
      "source": [
        "Adding and Removing Elements\n",
        "\n",
        "You can add elements using the add() method and remove elements using the\n",
        "remove() or discard() methods"
      ],
      "metadata": {
        "id": "pV-iz8THLyYo"
      }
    },
    {
      "cell_type": "code",
      "source": [
        "set = {1, 2, 3}\n",
        "set.add(4)\n",
        "set.remove(3)\n",
        "print(set)\n",
        "my_set.discard(5)\n",
        "print(my_set)"
      ],
      "metadata": {
        "colab": {
          "base_uri": "https://localhost:8080/"
        },
        "id": "xYsSfSrZL58q",
        "outputId": "e32000ba-4e53-444b-e0fe-89631121db74"
      },
      "execution_count": 21,
      "outputs": [
        {
          "output_type": "stream",
          "name": "stdout",
          "text": [
            "{1, 2, 4}\n",
            "{1, 2, 3, 4}\n"
          ]
        }
      ]
    },
    {
      "cell_type": "markdown",
      "source": [
        "Set Operations\n",
        "\n",
        "Sets support various mathematical operations such as union, intersection,\n",
        "difference, and symmetric difference.\n",
        "\n",
        "Union\n",
        "\n",
        "The union of two sets contains all elements from both sets"
      ],
      "metadata": {
        "id": "vQQwVQwNOhcv"
      }
    },
    {
      "cell_type": "code",
      "source": [
        "set1 = {1, 2, 3}\n",
        "set2 = {3, 4, 5}\n",
        "union_set = set1.union(set2)\n",
        "print(union_set) # Output: {1, 2, 3, 4, 5}\n",
        "# Alternatively, we can use the | operator\n",
        "union_set = set1 | set2\n",
        "print(union_set)"
      ],
      "metadata": {
        "colab": {
          "base_uri": "https://localhost:8080/"
        },
        "id": "FUVAe10oOmNa",
        "outputId": "ceb74f13-0d68-4f47-c944-9f38e15d2004"
      },
      "execution_count": 22,
      "outputs": [
        {
          "output_type": "stream",
          "name": "stdout",
          "text": [
            "{1, 2, 3, 4, 5}\n",
            "{1, 2, 3, 4, 5}\n"
          ]
        }
      ]
    },
    {
      "cell_type": "markdown",
      "source": [
        "Intersection\n",
        "\n",
        "The intersection of two sets contains only the elements that are present in both sets."
      ],
      "metadata": {
        "id": "mEfVZzT_Ot91"
      }
    },
    {
      "cell_type": "code",
      "source": [
        "set1 = {1, 2, 3}\n",
        "set2 = {3, 4, 5}\n",
        "intersection_set = set1.intersection(set2)\n",
        "print(intersection_set) # Output: {3}\n",
        "# Alternatively,we can use the & operator\n",
        "intersection_set = set1 & set2\n",
        "print(intersection_set)"
      ],
      "metadata": {
        "colab": {
          "base_uri": "https://localhost:8080/"
        },
        "id": "ytMzO40iOvr6",
        "outputId": "a5fd3105-3b1c-4b89-d508-71a8680c13a6"
      },
      "execution_count": 23,
      "outputs": [
        {
          "output_type": "stream",
          "name": "stdout",
          "text": [
            "{3}\n",
            "{3}\n"
          ]
        }
      ]
    },
    {
      "cell_type": "markdown",
      "source": [
        "Q.6. Disscuss the use cases of sets and tuples in Pytgon programming.\n",
        "\n",
        "Sets\n",
        "\n",
        "- Removing Duplicates: When we need to ensure unique elements in your data, sets\n",
        "shine. They automatically discard duplicates during creation, making them ideal for\n",
        "tasks like finding unique words in a text or collecting unique user IDs.\n",
        "\n",
        "- Set Operations: Sets provide powerful operations like union (combining elements),\n",
        "intersection (finding common elements), and difference (elements in one set but not\n",
        "the other). These are useful for data analysis, filtering items based on specific\n",
        "criteria.\n",
        "\n",
        "- Membership Testing: Checking if an element exists in a set is a very fast operation.\n",
        "This makes sets efficient for tasks like validating user input or checking if a product\n",
        "exists in a shopping cart."
      ],
      "metadata": {
        "id": "Fd-kbOFWOyot"
      }
    },
    {
      "cell_type": "code",
      "source": [
        "my_list = [1, 2, 2, 3, 4, 4, 5]\n",
        "# Convert the list to a set to remove duplicates\n",
        "unique_elements = set(my_list)\n",
        "# Print the unique elements\n",
        "print(unique_elements)\n",
        "# Output: {1, 2, 3, 4, 5}"
      ],
      "metadata": {
        "id": "rE2vtqt_PJeb"
      },
      "execution_count": null,
      "outputs": []
    },
    {
      "cell_type": "markdown",
      "source": [
        "Function Arguments: Tuples are often used to return multiple values from a function."
      ],
      "metadata": {
        "id": "wz4z3DOpPxSw"
      }
    },
    {
      "cell_type": "code",
      "source": [
        "def get_min_max(numbers):\n",
        " return (min(numbers), max(numbers))\n",
        "result = get_min_max([1, 2, 3, 4, 5])\n",
        "print(result)"
      ],
      "metadata": {
        "colab": {
          "base_uri": "https://localhost:8080/"
        },
        "id": "bTsn2oUKP00l",
        "outputId": "d57d123a-2d6a-4b2c-bfdd-cde3e149e91f"
      },
      "execution_count": 28,
      "outputs": [
        {
          "output_type": "stream",
          "name": "stdout",
          "text": [
            "(1, 5)\n"
          ]
        }
      ]
    },
    {
      "cell_type": "markdown",
      "source": [
        "Sets: Best for collections where uniqueness is required and membership testing is\n",
        "frequent. Useful for operations like removing duplicates, performing mathematical\n",
        "set operations, and efficient membership testing.\n",
        "\n",
        "Tuples: Ideal for fixed collections of items, ensuring data integrity, using as\n",
        "dictionary keys, and returning multiple values from functions. Suitable for\n",
        "representing immutable data and for situations where data should not be modified"
      ],
      "metadata": {
        "id": "O4EmL4SBP4Ih"
      }
    },
    {
      "cell_type": "markdown",
      "source": [
        "Q.7.Describe how to add, modify and delete items in a dictionary with\n",
        "examples.\n",
        "\n",
        "Ans.\n",
        "Dictionaries in Python provide a powerful way to store and manage data using\n",
        "key-value pairs. Here's how you can add, modify, and delete items within a\n",
        "dictionary:\n",
        "\n",
        "Adding Items:\n",
        "\n",
        "Direct Assignment: We can directly assign a value to a new key within the dictionary\n",
        "curly braces"
      ],
      "metadata": {
        "id": "ab1anmAUP8VB"
      }
    },
    {
      "cell_type": "code",
      "source": [
        "my_dict = {}\n",
        "my_dict['name'] = 'Pankaj'\n",
        "print(my_dict) # Output: {'name': 'Alice'}\n",
        "# Add another key-value pair\n",
        "my_dict['age'] = 25\n",
        "print(my_dict)"
      ],
      "metadata": {
        "colab": {
          "base_uri": "https://localhost:8080/"
        },
        "id": "HoJzfgUSQDQ7",
        "outputId": "66040018-d70e-4270-cc0f-1d461fb239ab"
      },
      "execution_count": 29,
      "outputs": [
        {
          "output_type": "stream",
          "name": "stdout",
          "text": [
            "{'name': 'Pankaj'}\n",
            "{'name': 'Pankaj', 'age': 25}\n"
          ]
        }
      ]
    },
    {
      "cell_type": "markdown",
      "source": [
        "Modifying Items in a Dictionary\n",
        "\n",
        "We can modify the value of an existing key by reassigning a new value to that key.\n"
      ],
      "metadata": {
        "id": "zXY1X_LjQIwH"
      }
    },
    {
      "cell_type": "code",
      "source": [
        "my_dict = {'name': 'Alice', 'age': 25}\n",
        "# Modify the value of an existing key\n",
        "my_dict['age'] = 26\n",
        "print(my_dict) # Output: {'name': 'Alice', 'age': 26}\n",
        "# Modify another key-value pair\n",
        "my_dict['name'] = 'Ajay'\n",
        "print(my_dict)\n"
      ],
      "metadata": {
        "colab": {
          "base_uri": "https://localhost:8080/"
        },
        "id": "dc6otvPwQK74",
        "outputId": "9010690e-8349-4e5b-b6a0-f041418245d4"
      },
      "execution_count": 30,
      "outputs": [
        {
          "output_type": "stream",
          "name": "stdout",
          "text": [
            "{'name': 'Alice', 'age': 26}\n",
            "{'name': 'Ajay', 'age': 26}\n"
          ]
        }
      ]
    },
    {
      "cell_type": "markdown",
      "source": [
        "The pop() method removes the key-value pair associated with a specified key and\n",
        "returns the value."
      ],
      "metadata": {
        "id": "xrWeeuN5QPmG"
      }
    },
    {
      "cell_type": "code",
      "source": [
        "my_dict = {'name': 'Alice', 'age': 25, 'city': 'New York'}\n",
        "# Remove a key-value pair and return the value\n",
        "age = my_dict.pop('age')\n",
        "print(age) # Output: 25\n",
        "print(my_dict)\n"
      ],
      "metadata": {
        "colab": {
          "base_uri": "https://localhost:8080/"
        },
        "id": "1EEsBZGyP7zi",
        "outputId": "a220878c-d0ae-43bd-c72c-af7d1cec91e2"
      },
      "execution_count": 31,
      "outputs": [
        {
          "output_type": "stream",
          "name": "stdout",
          "text": [
            "25\n",
            "{'name': 'Alice', 'city': 'New York'}\n"
          ]
        }
      ]
    },
    {
      "cell_type": "markdown",
      "source": [
        "The popitem() method removes and returns the last key-value pair added to the\n",
        "dictionary"
      ],
      "metadata": {
        "id": "3ithdpd6QW4I"
      }
    },
    {
      "cell_type": "code",
      "source": [
        "my_dict = {'name': 'Africa', 'age': 25, 'city': 'New York'}\n",
        "# Remove and return the last key-value pair\n",
        "last_item = my_dict.popitem()\n",
        "print(last_item) # Output: ('city', 'New York')\n",
        "print(my_dict)\n"
      ],
      "metadata": {
        "colab": {
          "base_uri": "https://localhost:8080/"
        },
        "id": "sKVYqj5uQZni",
        "outputId": "134f5351-261f-494d-ecde-78dc877f45cd"
      },
      "execution_count": 32,
      "outputs": [
        {
          "output_type": "stream",
          "name": "stdout",
          "text": [
            "('city', 'New York')\n",
            "{'name': 'Africa', 'age': 25}\n"
          ]
        }
      ]
    },
    {
      "cell_type": "markdown",
      "source": [
        "Q.8.Discuss the importance of dictionary keys being immutable and\n",
        "provide examples.\n",
        "\n",
        "Ans.\n",
        "\n",
        " The immutability of dictionary keys in Python is a fundamental requirement that\n",
        "ensures the integrity and efficiency of dictionary operations. This design choice is\n",
        "rooted in how dictionaries function, particularly in their reliance on hash values for\n",
        "quick data retrieval.\n",
        "\n",
        "Importance of Immutable Keys\n",
        "\n",
        "(a). Hashing Consistency\n",
        "\n",
        "Dictionaries in Python are implemented as hash tables, which means that they use a\n",
        "hash function to compute a hash value for each key. This hash value determines\n",
        "where the corresponding value is stored in memory. If a key were mutable, its hash\n",
        "value could change over time. This inconsistency would lead to significant issues:\n",
        "Lookup Failures: If the key's value changes, the dictionary would be unable to locate\n",
        "the value associated with that key because it would be searching for an outdated\n",
        "hash value. For example, if a list were used as a key and its contents were modified,\n",
        "the dictionary would not find the expected entry, leading to errors during lookups.\n",
        "\n",
        "(b).Consistency and Reliability:\n",
        "\n",
        "Immutable keys ensure that the mapping between keys and values remains stable\n",
        "throughout the lifetime of the dictionary. This stability is crucial for maintaining the\n",
        "integrity of the dictionary.\n",
        "\n",
        "(c).Performance:\n",
        "\n",
        "Immutable objects are often implemented in a way that makes them faster to hash\n",
        "and compare. This improves the overall performance of dictionary operations, such\n",
        "as insertions, lookups, and deletions.\n"
      ],
      "metadata": {
        "id": "t_LUuul-Qffs"
      }
    },
    {
      "cell_type": "code",
      "source": [
        "person = {\n",
        " 'name': 'Krishna',\n",
        " 'age': 30,\n",
        " 'city': 'New York'\n",
        "}\n",
        "print(person['name']) # Output: Alice\n",
        "# Using numbers as dictionary keys\n",
        "inventory = {\n",
        " 101: 'Apple',\n",
        " 102: 'Banana',\n",
        " 103: 'Cherry'\n",
        "}\n",
        "print(inventory[101])\n",
        "coordinates = {\n",
        " (40.7128, -74.0060): 'New York',\n",
        " (34.0522, -118.2437): 'Los Angeles'\n",
        "}\n",
        "print(coordinates[(40.7128, -74.0060)])"
      ],
      "metadata": {
        "colab": {
          "base_uri": "https://localhost:8080/"
        },
        "id": "FRrvbysQQtT3",
        "outputId": "d720c80f-6916-48da-b172-4cef0c218971"
      },
      "execution_count": 33,
      "outputs": [
        {
          "output_type": "stream",
          "name": "stdout",
          "text": [
            "Krishna\n",
            "Apple\n",
            "New York\n"
          ]
        }
      ]
    },
    {
      "cell_type": "markdown",
      "source": [
        "Mutable Types as Dictionary Keys (Not Allowed)\n",
        "\n",
        "Using mutable types like lists or dictionaries as dictionary keys would result in a\n",
        "TypeError because they are not hashable.\n",
        "\n",
        "Summary\n",
        "\n",
        "Hashing Requirement: Immutable types have consistent hash values, making them\n",
        "suitable for dictionary keys.\n",
        "\n",
        "Consistency and Reliability: Immutable keys ensure stable mappings.\n",
        "\n",
        "Performance: Immutable objects often have faster hash and comparison operations.\n",
        "\n",
        "By enforcing the immutability of dictionary keys, Python ensures that dictionaries\n",
        "remain efficient, reliable, and performant"
      ],
      "metadata": {
        "id": "IFgMBjB4Q30J"
      }
    }
  ]
}